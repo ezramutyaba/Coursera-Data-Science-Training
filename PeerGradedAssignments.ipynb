{
 "cells": [
  {
   "cell_type": "markdown",
   "metadata": {},
   "source": [
    "<H1>My Jupyter Notebook on IBM Watson Studio</H1>"
   ]
  },
  {
   "cell_type": "markdown",
   "metadata": {},
   "source": [
    "<strong>Deogracious Mutyaba</strong>\n",
    "<br>\n",
    "Data Scientist"
   ]
  },
  {
   "cell_type": "markdown",
   "metadata": {},
   "source": [
    "<em>I am interested in data science because I believe it can it can used to change people's lives by informing humanitarian policies.</em>"
   ]
  },
  {
   "cell_type": "markdown",
   "metadata": {
    "tags": []
   },
   "source": [
    "<h3>Code to add Numbers 1 up to 10</h3>"
   ]
  },
  {
   "cell_type": "code",
   "execution_count": 3,
   "metadata": {},
   "outputs": [
    {
     "name": "stdout",
     "output_type": "stream",
     "text": [
      "Number is 55!\n"
     ]
    }
   ],
   "source": [
    "a = 0\n",
    "b = 0\n",
    "while a < 10:\n",
    "    a = a + 1\n",
    "    b = b + a\n",
    "\n",
    "print(f\"Number is {b}!\")"
   ]
  },
  {
   "cell_type": "markdown",
   "metadata": {},
   "source": [
    "<hr>\n",
    "<ul>\n",
    "  <li>Python</li>\n",
    "  <li>Notebook</li>\n",
    "  <li>Jupter</li>\n",
    "</ul>\n",
    "   \n",
    "<hr>\n",
    "<ol>\n",
    "  <li>Python</li>\n",
    "  <li>Notebook</li>\n",
    "  <li>Jupter</li>\n",
    "</ol>\n",
    "\n",
    "<table>\n",
    "  <tr>\n",
    "    <th>Student</th>\n",
    "    <th>Course</th>\n",
    "  </tr>\n",
    "  <tr>\n",
    "    <td>Alfreds Futterkiste</td>\n",
    "    <td><a href=\"https://www.coursera.org/\">Coursera</a></td>\n",
    "  </tr>\n",
    "  <tr>\n",
    "    <td>Centro comercial Moctezuma</td>\n",
    "    <td>IBM Studio</td>\n",
    "  </tr>\n",
    "</table>"
   ]
  },
  {
   "cell_type": "code",
   "execution_count": null,
   "metadata": {},
   "outputs": [],
   "source": []
  }
 ],
 "metadata": {
  "kernelspec": {
   "display_name": "Python",
   "language": "python",
   "name": "conda-env-python-py"
  },
  "language_info": {
   "codemirror_mode": {
    "name": "ipython",
    "version": 3
   },
   "file_extension": ".py",
   "mimetype": "text/x-python",
   "name": "python",
   "nbconvert_exporter": "python",
   "pygments_lexer": "ipython3",
   "version": "3.7.12"
  }
 },
 "nbformat": 4,
 "nbformat_minor": 4
}
